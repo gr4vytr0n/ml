{
 "cells": [
  {
   "cell_type": "code",
   "execution_count": 3,
   "metadata": {
    "collapsed": true
   },
   "outputs": [],
   "source": [
    "from numpy import *\n",
    "import operator\n",
    "\n",
    "def createDataset():\n",
    "  group = array([[1.0,1.1],[1.0,1.0],[0,0],[0,0.1]])\n",
    "  labels = ['A','A','B','B']\n",
    "  return group, labels"
   ]
  },
  {
   "cell_type": "code",
   "execution_count": 10,
   "metadata": {
    "collapsed": true
   },
   "outputs": [],
   "source": [
    "# k-Nearest Neighbor algorithm\n",
    "# inX: value to be classified, dataset: known data, labels: class labels, k: number of nearest neighbors\n",
    "def classify0(inX, dataset, labels, k):\n",
    "    # number of rows\n",
    "    datasetSize = dataset.shape[0]\n",
    "    \n",
    "    # determine distance between inX and each row in dataset using Euclidian distance formula\n",
    "    # subtract inX X from datasets' rows' X and same with Ys\n",
    "    diffMat = tile(inX , (datasetSize, 1)) - dataset\n",
    "    # square diff of Xs and square diff of Ys\n",
    "    sqDiffMat = diffMat**2\n",
    "    # add X and Y of each row\n",
    "    squareDistances = sqDiffMat.sum(axis=1)\n",
    "    # get square root of each element of sqDiffMat array\n",
    "    distances = squareDistances**0.5\n",
    "    \n",
    "    # get indices of distances in array of distances in increasing order\n",
    "    sortedDistances = distances.argsort()\n",
    "    \n",
    "    # create dictionary of first k lowest distances from inX\n",
    "    classCount = {}\n",
    "    for i in range(k):\n",
    "        # find label at index i\n",
    "        voteLabel = labels[sortedDistances[i]]\n",
    "        # add a key for each class and count number of times that class occurs in first k of sortedDistances\n",
    "        classCount[voteLabel] = classCount.get(voteLabel,0) + 1\n",
    "    \n",
    "    # sort classCount in decreasing order based on count for each class\n",
    "    sortedClassCount = sorted(classCount.items(), key=operator.itemgetter(1), reverse=True)\n",
    "    \n",
    "    # return majority class\n",
    "    return sortedClassCount[0][0]\n",
    "    "
   ]
  },
  {
   "cell_type": "code",
   "execution_count": 5,
   "metadata": {},
   "outputs": [
    {
     "name": "stdout",
     "output_type": "stream",
     "text": [
      "(array([[ 1. ,  1.1],\n",
      "       [ 1. ,  1. ],\n",
      "       [ 0. ,  0. ],\n",
      "       [ 0. ,  0.1]]), ['A', 'A', 'B', 'B'])\n"
     ]
    }
   ],
   "source": [
    "dset = createDataset()\n",
    "print(dset)"
   ]
  },
  {
   "cell_type": "code",
   "execution_count": 7,
   "metadata": {},
   "outputs": [],
   "source": [
    "group, labels = dset"
   ]
  },
  {
   "cell_type": "code",
   "execution_count": 11,
   "metadata": {},
   "outputs": [],
   "source": [
    "classified = classify0([0,0], group, labels, 3)"
   ]
  },
  {
   "cell_type": "code",
   "execution_count": 12,
   "metadata": {},
   "outputs": [
    {
     "name": "stdout",
     "output_type": "stream",
     "text": [
      "B\n"
     ]
    }
   ],
   "source": [
    "print(classified)"
   ]
  },
  {
   "cell_type": "code",
   "execution_count": null,
   "metadata": {
    "collapsed": true
   },
   "outputs": [],
   "source": []
  }
 ],
 "metadata": {
  "kernelspec": {
   "display_name": "Python 3",
   "language": "python",
   "name": "python3"
  },
  "language_info": {
   "codemirror_mode": {
    "name": "ipython",
    "version": 3
   },
   "file_extension": ".py",
   "mimetype": "text/x-python",
   "name": "python",
   "nbconvert_exporter": "python",
   "pygments_lexer": "ipython3",
   "version": "3.6.2"
  }
 },
 "nbformat": 4,
 "nbformat_minor": 2
}
